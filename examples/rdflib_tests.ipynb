{
 "cells": [
  {
   "cell_type": "code",
   "execution_count": 45,
   "metadata": {},
   "outputs": [
    {
     "name": "stdout",
     "output_type": "stream",
     "text": [
      "/global/u1/s/sleak/Monitoring/Resilience/LogSet/etc/vocab.ttl\n",
      "/global/u1/s/sleak/Monitoring/Resilience/LogSet/etc/dict.ttl\n"
     ]
    }
   ],
   "source": [
    "import os\n",
    "root = os.getcwd().rsplit('/',1)[0]\n",
    "vocab_path = '{0:s}/etc/vocab.ttl'.format(root)\n",
    "dict_path = '{0:s}/etc/dict.ttl'.format(root)\n",
    "print(vocab_path)\n",
    "print(dict_path)"
   ]
  },
  {
   "cell_type": "code",
   "execution_count": 46,
   "metadata": {},
   "outputs": [
    {
     "name": "stdout",
     "output_type": "stream",
     "text": [
      "@prefix : <https://raw.githubusercontent.com/NERSC/LogSet/master/etc/dict#> .\n",
      "@prefix adms: <http://www.w3.org/ns/adms#> .\n",
      "@prefix dcat: <http://www.w3.org/ns/dcat#> .\n",
      "@prefix dct: <http://purl.org/dc/terms/> .\n",
      "@prefix default1: <https://raw.githubusercontent.com/NERSC/LogSet/master/etc/vocab#> .\n",
      "@prefix foaf: <http://xmlns.com/foaf/0.1/> .\n",
      "@prefix logset: <https://raw.githubusercontent.com/NERSC/LogSet/master/etc/vocab#> .\n",
      "@prefix owl: <http://www.w3.org/2002/07/owl#> .\n",
      "@prefix rdf: <http://www.w3.org/1999/02/22-rdf-syntax-ns#> .\n",
      "@prefix rdfs: <http://www.w3.org/2000/01/rdf-schema#> .\n",
      "@prefix xml: <http://www.w3.org/XML/1998/namespace> .\n",
      "@prefix xsd: <http://www.w3.org/2001/XMLSchema#> .\n",
      "\n",
      ":console_logfile a logset:LogSeries ;\n",
      "    logset:logFormat :timeStampedLogFile ;\n",
      "    logset:logFormatInfo \"filepattern=console\",\n",
      "        \"filepattern=console-<dateYYYYMMDD>\",\n",
      "        \"part_word=1\",\n",
      "        \"ts_word=0\" .\n",
      "\n",
      ":messages_logfile a logset:LogSeries ;\n",
      "    logset:logFormat :timeStampedLogFile ;\n",
      "    logset:logFormatInfo \"filepattern=messages\",\n",
      "        \"filepattern=messages-<dateYYYYMMDD>\",\n",
      "        \"part_word=2\",\n",
      "        \"ts_word=1\" .\n",
      "\n",
      "logset:hasAnnotations a owl:ObjectProperty ;\n",
      "    rdfs:comment \"Links annotation data to a LogSet\" ;\n",
      "    rdfs:domain logset:LogSet ;\n",
      "    rdfs:range logset:DataSource .\n",
      "\n",
      "logset:hasLogData a owl:ObjectProperty ;\n",
      "    rdfs:comment \"Links log data (eg a log file) to a LogSet\" ;\n",
      "    rdfs:domain logset:LogSet ;\n",
      "    rdfs:range logset:DataSource .\n",
      "\n",
      "logset:isLogOf a owl:FunctionalProperty,\n",
      "        owl:ObjectProperty ;\n",
      "    rdfs:comment \"Links a LogSeries to log data (eg a log file)\" ;\n",
      "    rdfs:domain logset:DataSource ;\n",
      "    rdfs:range logset:LogSeries .\n",
      "\n",
      "logset:logFormatInfo a owl:ObjectProperty ;\n",
      "    rdfs:comment \"\"\" dictionary-like information that a LogFormatType handler \n",
      "                     class can use to interpret a specific type of logfile. Each \n",
      "                     logFormatInfo property should be a literal like \n",
      "                     \"key=value\". Eg, a console_logfile and message_logfile are\n",
      "                     both timeStampedLogFile, but in the console log the \n",
      "                     timestamp is the first \"word\" on each line, while in the \n",
      "                     message log the timestamp is the second word on each line.\n",
      "                     So console_logfile can have recordInfoProperty \"ts_word=0\"\n",
      "                     (and \"part_word=1\" for system component) \n",
      "                 \"\"\" ;\n",
      "    rdfs:domain logset:LogSeries ;\n",
      "    rdfs:range rdfs:Literal .\n",
      "\n",
      "logset:File a owl:class ;\n",
      "    rdfs:subClassOf [ a owl:Restriction ;\n",
      "            owl:cardinality 1 ;\n",
      "            owl:onProperty logset:path ],\n",
      "        logset:DataSource .\n",
      "\n",
      "logset:logFormat a owl:FunctionalProperty,\n",
      "        owl:ObjectProperty ;\n",
      "    rdfs:comment \"\"\" An entity indicating how a LogSeries is formatted, from \n",
      "                     which tools can decide how to process it.\n",
      "                     For example, most logs are timestamped-line-per-entry (in\n",
      "                     a file or stream) but some are a timestamped multiline \n",
      "                     block, others have a file per timestamp and contain a \n",
      "                     table, others hove no obvious structure at all. \n",
      "                     problem: what if the \n",
      "                     same log might be in a native file or as records in a \n",
      "                     database? then the logFormat should provide enough \n",
      "                     information for a tool to answer questions about it?\n",
      "                     or does that count as a different logseries?\n",
      "                 \"\"\" ;\n",
      "    rdfs:domain logset:LogSeries ;\n",
      "    rdfs:range logset:LogFormatType ;\n",
      "    owl:oneOf ( :timeStampedLogFile ) .\n",
      "\n",
      "logset:path a owl:DatatypeProperty ;\n",
      "    rdfs:comment \"path relative to the index.ttl file\" ;\n",
      "    rdfs:domain logset:File ;\n",
      "    rdfs:range rdfs:Literal .\n",
      "\n",
      "logset:system a owl:ObjectProperty ;\n",
      "    rdfs:domain logset:LogSeries ;\n",
      "    rdfs:range adms:Asset .\n",
      "\n",
      "logset:LogFormatType a owl:class ;\n",
      "    rdfs:comment \"\"\" An entity representing how log data is organized, in order \n",
      "                     to help tools decide how to handle a give log.  \n",
      "                     For example, most logs are timestamped-line-per-entry but\n",
      "                     some are a timestamped multiline block, others have a file\n",
      "                     per timestamp and contain a table, others hove no obvious \n",
      "                     structure at all. \n",
      "                     A LogFormatType is expected to correspond to a handler \n",
      "                     class for logs in that format\n",
      "                 \"\"\" .\n",
      "\n",
      "logset:LogSet a owl:Class ;\n",
      "    rdfs:comment \"\"\" A LogSet is a DataSet for a specific system, spanning a \n",
      "                     specific timeframe (eg a Cray boot session on NERSC Cori). \n",
      "                     It is recommended but not enforced that a LogSet instance \n",
      "                     should have certain properties describing its provenance:   \n",
      "                     # dct:title         a rdfs:Literal\n",
      "                     # dct:description   a rdfs:Literal\n",
      "                     # dct:publisher     a foaf:Organization\n",
      "                     # dct:contactPoint  a vcard:Kind\n",
      "                     It is also recommended/expected that the following \n",
      "                     attributes will be described:\n",
      "                     :hasLogData     a :DataSource \n",
      "                     :hasAnnotations a :DataSource\n",
      "                 \"\"\" ;\n",
      "    rdfs:subClassOf [ a owl:Restriction ;\n",
      "            owl:cardinality 1 ;\n",
      "            owl:onProperty dct:temporal ],\n",
      "        [ a owl:Restriction ;\n",
      "            owl:onProperty logset:system ],\n",
      "        dcat:Dataset .\n",
      "\n",
      ":timeStampedLogFile a logset:LogFormatType .\n",
      "\n",
      "logset:DataSource a owl:class ;\n",
      "    rdfs:comment \"\"\" general accessor for log data, eg a File or database or web \n",
      "                     service. Used to identify a class to instantiate that can \n",
      "                     interpret between how the datasource holds/exposes the data \n",
      "                     and the canonical logFormat for the LogSeries \n",
      "                     (eg, one DataSource might provide access to a file holding \n",
      "                     a console log, another to a database holding it - but the \n",
      "                     accessor for each should provide data in the format \n",
      "                     described by the LogSeries)\n",
      "                 \"\"\" ;\n",
      "    rdfs:subClassOf [ a owl:Restriction ;\n",
      "            owl:cardinality 1 ;\n",
      "            owl:onProperty dcat:mediaType ] .\n",
      "\n",
      "logset:LogSeries a owl:Class ;\n",
      "    rdfs:comment \"\"\" A \"type\" of logfile, eg a console or outage log. Can be \n",
      "                     used by tools to indicate how to handle a log. Must have\n",
      "                     a property indicating the \"canonical\" format that tools\n",
      "                     can assume on\n",
      "                     hmm: if we have multiple source for same type of log (eg \n",
      "                     version in elasticsearch), then maybe we need an \n",
      "                     \"equivalentTo\" property to link them?\n",
      "                 \"\"\" ;\n",
      "    rdfs:subClassOf [ a owl:Restriction ;\n",
      "            owl:cardinality 1 ;\n",
      "            owl:onProperty logset:logFormat ] .\n",
      "\n",
      "\n"
     ]
    }
   ],
   "source": [
    "import sys\n",
    "sys.path.append('/global/homes/s/sleak/.local/cori/3.6-anaconda-4.4/lib/python3.6/site-packages')\n",
    "import rdflib\n",
    "#graph = rdflib.ConjunctiveGraph().parse(vocab_path, format='turtle')\n",
    "gvocab = rdflib.ConjunctiveGraph().parse(vocab_path, format='turtle')\n",
    "\n",
    "# now add the data dictionary:\n",
    "#graph.parse(dict_path, format='turtle')\n",
    "gdict = rdflib.ConjunctiveGraph().parse(dict_path, format='turtle')\n",
    "graph = gvocab + gdict\n",
    "\n",
    "print(graph.serialize(format='n3').decode('ascii'))\n",
    "#print(graph.identifier)\n",
    "#print(gvocab.identifier)\n",
    "#print(gdict.identifier)\n",
    "\n"
   ]
  },
  {
   "cell_type": "code",
   "execution_count": 47,
   "metadata": {},
   "outputs": [
    {
     "name": "stdout",
     "output_type": "stream",
     "text": [
      "(rdflib.term.BNode('fb7c7d5ab1a1e46259948b6d277357ec5b1'), rdflib.term.URIRef('http://www.w3.org/1999/02/22-rdf-syntax-ns#type'), rdflib.term.URIRef('https://raw.githubusercontent.com/NERSC/LogSet/master/etc/vocab#LogSet'))\n",
      "(rdflib.term.BNode('fb7c7d5ab1a1e46259948b6d277357ec5b2'), rdflib.term.URIRef('https://raw.githubusercontent.com/NERSC/LogSet/master/etc/vocab#isLogOf'), rdflib.term.URIRef('https://raw.githubusercontent.com/NERSC/LogSet/master/etc/dict#console_logfile'))\n",
      "(rdflib.term.BNode('fb7c7d5ab1a1e46259948b6d277357ec5b3'), rdflib.term.URIRef('https://raw.githubusercontent.com/NERSC/LogSet/master/etc/vocab#path'), rdflib.term.Literal('p0-20170906t151820/console-20170907'))\n",
      "(rdflib.term.BNode('fb7c7d5ab1a1e46259948b6d277357ec5b7'), rdflib.term.URIRef('http://www.w3.org/1999/02/22-rdf-syntax-ns#type'), rdflib.term.URIRef('https://raw.githubusercontent.com/NERSC/LogSet/master/etc/vocab#File'))\n",
      "(rdflib.term.BNode('fb7c7d5ab1a1e46259948b6d277357ec5b1'), rdflib.term.URIRef('https://raw.githubusercontent.com/NERSC/LogSet/master/etc/vocab#hasLogData'), rdflib.term.BNode('fb7c7d5ab1a1e46259948b6d277357ec5b5'))\n",
      "(rdflib.term.BNode('fb7c7d5ab1a1e46259948b6d277357ec5b1'), rdflib.term.URIRef('https://raw.githubusercontent.com/NERSC/LogSet/master/etc/vocab#hasLogData'), rdflib.term.BNode('fb7c7d5ab1a1e46259948b6d277357ec5b2'))\n",
      "(rdflib.term.BNode('fb7c7d5ab1a1e46259948b6d277357ec5b6'), rdflib.term.URIRef('http://www.w3.org/ns/dcat#mediaType'), rdflib.term.Literal('text/plain'))\n",
      "(rdflib.term.BNode('fb7c7d5ab1a1e46259948b6d277357ec5b3'), rdflib.term.URIRef('http://www.w3.org/ns/dcat#mediaType'), rdflib.term.Literal('text/plain'))\n",
      "(rdflib.term.BNode('fb7c7d5ab1a1e46259948b6d277357ec5b7'), rdflib.term.URIRef('https://raw.githubusercontent.com/NERSC/LogSet/master/etc/vocab#isLogOf'), rdflib.term.URIRef('https://raw.githubusercontent.com/NERSC/LogSet/master/etc/dict#messages_logfile'))\n",
      "(rdflib.term.BNode('fb7c7d5ab1a1e46259948b6d277357ec5b7'), rdflib.term.URIRef('https://raw.githubusercontent.com/NERSC/LogSet/master/etc/vocab#path'), rdflib.term.Literal('p0-20170906t151820/messages-20170907'))\n",
      "(rdflib.term.BNode('fb7c7d5ab1a1e46259948b6d277357ec5b7'), rdflib.term.URIRef('http://www.w3.org/ns/dcat#mediaType'), rdflib.term.Literal('text/plain'))\n",
      "(rdflib.term.BNode('fb7c7d5ab1a1e46259948b6d277357ec5b2'), rdflib.term.URIRef('http://www.w3.org/1999/02/22-rdf-syntax-ns#type'), rdflib.term.URIRef('https://raw.githubusercontent.com/NERSC/LogSet/master/etc/vocab#File'))\n",
      "(rdflib.term.BNode('fb7c7d5ab1a1e46259948b6d277357ec5b1'), rdflib.term.URIRef('http://purl.org/dc/terms/temporal'), rdflib.term.Literal('start=2017-09-06T15:18:20+08:00'))\n",
      "(rdflib.term.BNode('fb7c7d5ab1a1e46259948b6d277357ec5b6'), rdflib.term.URIRef('http://www.w3.org/1999/02/22-rdf-syntax-ns#type'), rdflib.term.URIRef('https://raw.githubusercontent.com/NERSC/LogSet/master/etc/vocab#File'))\n",
      "(rdflib.term.BNode('fb7c7d5ab1a1e46259948b6d277357ec5b1'), rdflib.term.URIRef('https://raw.githubusercontent.com/NERSC/LogSet/master/etc/vocab#hasLogData'), rdflib.term.BNode('fb7c7d5ab1a1e46259948b6d277357ec5b4'))\n",
      "(rdflib.term.BNode('fb7c7d5ab1a1e46259948b6d277357ec5b2'), rdflib.term.URIRef('https://raw.githubusercontent.com/NERSC/LogSet/master/etc/vocab#path'), rdflib.term.Literal('p0-20170906t151820/console-20170906'))\n",
      "(rdflib.term.BNode('fb7c7d5ab1a1e46259948b6d277357ec5b6'), rdflib.term.URIRef('https://raw.githubusercontent.com/NERSC/LogSet/master/etc/vocab#isLogOf'), rdflib.term.URIRef('https://raw.githubusercontent.com/NERSC/LogSet/master/etc/dict#messages_logfile'))\n",
      "(rdflib.term.BNode('fb7c7d5ab1a1e46259948b6d277357ec5b3'), rdflib.term.URIRef('https://raw.githubusercontent.com/NERSC/LogSet/master/etc/vocab#isLogOf'), rdflib.term.URIRef('https://raw.githubusercontent.com/NERSC/LogSet/master/etc/dict#console_logfile'))\n",
      "(rdflib.term.BNode('fb7c7d5ab1a1e46259948b6d277357ec5b6'), rdflib.term.URIRef('https://raw.githubusercontent.com/NERSC/LogSet/master/etc/vocab#path'), rdflib.term.Literal('p0-20170906t151820/messages-20170906'))\n",
      "(rdflib.term.BNode('fb7c7d5ab1a1e46259948b6d277357ec5b1'), rdflib.term.URIRef('http://purl.org/dc/terms/description'), rdflib.term.Literal('a partial sample of cori log data for testing logset tools'))\n",
      "(rdflib.term.BNode('fb7c7d5ab1a1e46259948b6d277357ec5b1'), rdflib.term.URIRef('https://raw.githubusercontent.com/NERSC/LogSet/master/etc/vocab#system'), rdflib.term.URIRef('http://portal.nersc.gov/project/m888/resilience/entities/#cori'))\n",
      "(rdflib.term.BNode('fb7c7d5ab1a1e46259948b6d277357ec5b2'), rdflib.term.URIRef('http://www.w3.org/ns/dcat#mediaType'), rdflib.term.Literal('text/plain'))\n",
      "(rdflib.term.BNode('fb7c7d5ab1a1e46259948b6d277357ec5b1'), rdflib.term.URIRef('https://raw.githubusercontent.com/NERSC/LogSet/master/etc/vocab#hasLogData'), rdflib.term.BNode('fb7c7d5ab1a1e46259948b6d277357ec5b3'))\n",
      "(rdflib.term.BNode('fb7c7d5ab1a1e46259948b6d277357ec5b3'), rdflib.term.URIRef('http://www.w3.org/1999/02/22-rdf-syntax-ns#type'), rdflib.term.URIRef('https://raw.githubusercontent.com/NERSC/LogSet/master/etc/vocab#File'))\n"
     ]
    }
   ],
   "source": [
    "gindex = rdflib.ConjunctiveGraph().parse('{0:s}/examples/index.ttl'.format(root), format='turtle')\n",
    "#graph.parse('{0:s}/examples/index.ttl'.format(root), format='turtle')\n",
    "graph = (gvocab + gdict) + gindex\n",
    "#print(graph.serialize(format='n3').decode('ascii'))\n",
    "#for s,p,o in graph:\n",
    "for s,p,o in gindex:    \n",
    "    print ((s,p,o))\n",
    "    "
   ]
  },
  {
   "cell_type": "code",
   "execution_count": 48,
   "metadata": {},
   "outputs": [
    {
     "name": "stdout",
     "output_type": "stream",
     "text": [
      "(rdflib.term.BNode('fb7c7d5ab1a1e46259948b6d277357ec5b1'), rdflib.term.Literal('a partial sample of cori log data for testing logset tools'))\n"
     ]
    }
   ],
   "source": [
    "query = '''SELECT ?id ?desc\n",
    "WHERE {\n",
    "?id a logset:LogSet .\n",
    "?id dct:description ?desc .\n",
    "}'''\n",
    "#print(query[21])\n",
    "for row in graph.query(query):\n",
    "    print(row)\n"
   ]
  },
  {
   "cell_type": "code",
   "execution_count": 49,
   "metadata": {},
   "outputs": [
    {
     "name": "stdout",
     "output_type": "stream",
     "text": [
      "quering the whole graph:\n",
      "(rdflib.term.BNode('fb7c7d5ab1a1e46259948b6d277357ec5b2'), rdflib.term.Literal('p0-20170906t151820/console-20170906'))\n",
      "(rdflib.term.BNode('fb7c7d5ab1a1e46259948b6d277357ec5b3'), rdflib.term.Literal('p0-20170906t151820/console-20170907'))\n",
      "querying only gindex:\n",
      "(rdflib.term.BNode('fb7c7d5ab1a1e46259948b6d277357ec5b2'), rdflib.term.Literal('p0-20170906t151820/console-20170906'))\n",
      "(rdflib.term.BNode('fb7c7d5ab1a1e46259948b6d277357ec5b3'), rdflib.term.Literal('p0-20170906t151820/console-20170907'))\n"
     ]
    }
   ],
   "source": [
    "query = '''SELECT ?id ?path\n",
    "WHERE {\n",
    "?id logset:isLogOf dict:console_logfile .\n",
    "?id logset:path ?path .\n",
    "} '''\n",
    "print(\"quering the whole graph:\")\n",
    "for row in graph.query(query):\n",
    "    print(row)\n",
    "    \n",
    "# if I don't explicitly include the logset.ttl in the graph:\n",
    "print(\"querying only gindex:\")\n",
    "# (oh - actually everything needed is in the index.ttl)\n",
    "for row in gindex.query(query):\n",
    "    print(row)\n"
   ]
  },
  {
   "cell_type": "code",
   "execution_count": 50,
   "metadata": {},
   "outputs": [
    {
     "name": "stdout",
     "output_type": "stream",
     "text": [
      "with full graph:\n",
      "(rdflib.term.BNode('fb7c7d5ab1a1e46259948b6d277357ec5b2'), rdflib.term.Literal('p0-20170906t151820/console-20170906'))\n",
      "(rdflib.term.BNode('fb7c7d5ab1a1e46259948b6d277357ec5b7'), rdflib.term.Literal('p0-20170906t151820/messages-20170907'))\n",
      "(rdflib.term.BNode('fb7c7d5ab1a1e46259948b6d277357ec5b6'), rdflib.term.Literal('p0-20170906t151820/messages-20170906'))\n",
      "(rdflib.term.BNode('fb7c7d5ab1a1e46259948b6d277357ec5b3'), rdflib.term.Literal('p0-20170906t151820/console-20170907'))\n",
      "with gindex only:\n"
     ]
    }
   ],
   "source": [
    "query = '''SELECT ?id ?path\n",
    "WHERE {\n",
    "?id a ?type .\n",
    "?type rdfs:subClassOf* logset:DataSource . \n",
    "OPTIONAL { ?id logset:path ?path }\n",
    "} '''\n",
    "# :DataSource is defined in vocab.ttl .. so if our graph includes that (local file) we get:\n",
    "print (\"with full graph:\")\n",
    "for row in graph.query(query):\n",
    "    print(row)\n",
    "    \n",
    "# on the other hand, if we only query the local gindex graph:\n",
    "print (\"with gindex only:\")\n",
    "for row in gindex.query(query):\n",
    "    print(row)\n"
   ]
  },
  {
   "cell_type": "code",
   "execution_count": 51,
   "metadata": {
    "scrolled": false
   },
   "outputs": [
    {
     "name": "stdout",
     "output_type": "stream",
     "text": [
      "('xml', rdflib.term.URIRef('http://www.w3.org/XML/1998/namespace'))\n",
      "('rdf', rdflib.term.URIRef('http://www.w3.org/1999/02/22-rdf-syntax-ns#'))\n",
      "('rdfs', rdflib.term.URIRef('http://www.w3.org/2000/01/rdf-schema#'))\n",
      "('xsd', rdflib.term.URIRef('http://www.w3.org/2001/XMLSchema#'))\n",
      "('logset', rdflib.term.URIRef('https://raw.githubusercontent.com/NERSC/LogSet/master/etc/vocab#'))\n",
      "('dict', rdflib.term.URIRef('https://raw.githubusercontent.com/NERSC/LogSet/master/etc/dict#'))\n",
      "('entities', rdflib.term.URIRef('http://portal.nersc.gov/project/m888/resilience/entities/#'))\n",
      "('dct', rdflib.term.URIRef('http://purl.org/dc/terms/'))\n",
      "('dcat', rdflib.term.URIRef('http://www.w3.org/ns/dcat#'))\n",
      "g now has 24 statements\n",
      "<https://raw.githubusercontent.com/NERSC/LogSet/master/etc/vocab#>\n",
      "https://raw.githubusercontent.com/NERSC/LogSet/master/etc/vocab\n",
      "g now has 83 statements\n",
      "<https://raw.githubusercontent.com/NERSC/LogSet/master/etc/dict#>\n",
      "https://raw.githubusercontent.com/NERSC/LogSet/master/etc/dict\n",
      "g now has 99 statements\n"
     ]
    }
   ],
   "source": [
    "# so to assemble the full graph, I need to explicitly parse the vocab and data dictionary:\n",
    "# (mostly useful for catalog, as it will find subgraphs from there)\n",
    "\n",
    "# can i parse a remote graph at all?\n",
    "#g1 = rdflib.Graph().parse('https://www.w3.org/ns/dcat.ttl')\n",
    "#print (g1)\n",
    "# yes! but providing a format might be necessary\n",
    "#gg = rdflib.Graph().parse('https://raw.githubusercontent.com/NERSC/LogSet/master/etc/vocab.ttl', format='turtle')\n",
    "gindex = rdflib.ConjunctiveGraph().parse('{0:s}/examples/index.ttl'.format(root), format='turtle')\n",
    "##for s,p,o in gindex:    \n",
    "##    print ((s,p,o))\n",
    "for n in gindex.namespaces():\n",
    "    print (n)\n",
    "#print(dir(rdflib.term.URIRef))\n",
    "#print(rdflib.term.URIRef.__class__)\n",
    "g = gindex\n",
    "print (\"g now has {0} statements\".format(len(g)))\n",
    "for uri in [n[1] for n in gindex.namespaces() if n[0] in ('logset','dict')]:\n",
    "    print(str(uri.n3()))\n",
    "    print(str(uri)[:-1])\n",
    "    gsource=str(uri)[:-1] + '.ttl'   # needs extension or 404!\n",
    "    g += rdflib.ConjunctiveGraph().parse(gsource, format='turtle')\n",
    "    print (\"g now has {0} statements\".format(len(g)))\n",
    "    #summary = g.serialize(format='n3').decode('ascii')\n",
    "    #print(summary.splitlines()[:10])\n",
    "    #print(g.serialize(format='n3').decode('ascii'))"
   ]
  },
  {
   "cell_type": "code",
   "execution_count": 53,
   "metadata": {},
   "outputs": [
    {
     "name": "stdout",
     "output_type": "stream",
     "text": [
      "(rdflib.term.BNode('f35ae0a07a6b846599fddf8c4eaeaa924b3'), rdflib.term.Literal('p0-20170906t151820/console-20170907'))\n",
      "(rdflib.term.BNode('f35ae0a07a6b846599fddf8c4eaeaa924b7'), rdflib.term.Literal('p0-20170906t151820/messages-20170907'))\n",
      "(rdflib.term.BNode('f35ae0a07a6b846599fddf8c4eaeaa924b2'), rdflib.term.Literal('p0-20170906t151820/console-20170906'))\n",
      "(rdflib.term.BNode('f35ae0a07a6b846599fddf8c4eaeaa924b6'), rdflib.term.Literal('p0-20170906t151820/messages-20170906'))\n"
     ]
    }
   ],
   "source": [
    "query = '''SELECT ?id ?path\n",
    "WHERE {\n",
    "?id logset:isLogOf dict:console_logfile .\n",
    "?id logset:path ?path .\n",
    "} '''\n",
    "# now we can find the datasources in the loaded graph\n",
    "query2 = '''SELECT ?id ?path\n",
    "WHERE {\n",
    "?id a ?type .\n",
    "?type rdfs:subClassOf* logset:DataSource . \n",
    "OPTIONAL { ?id logset:path ?path }\n",
    "} '''\n",
    "#query3 = '''SELECT ?id ?type ?base\n",
    "#WHERE {\n",
    "#?id a ?type .\n",
    "#OPTIONAL { ?type rdfs:subClassOf ?base }\n",
    "#}'''\n",
    "for row in g.query(query2):\n",
    "    print(row)"
   ]
  },
  {
   "cell_type": "code",
   "execution_count": null,
   "metadata": {},
   "outputs": [],
   "source": []
  }
 ],
 "metadata": {
  "kernelspec": {
   "display_name": "Python [default]",
   "language": "python",
   "name": "python3"
  },
  "language_info": {
   "codemirror_mode": {
    "name": "ipython",
    "version": 3
   },
   "file_extension": ".py",
   "mimetype": "text/x-python",
   "name": "python",
   "nbconvert_exporter": "python",
   "pygments_lexer": "ipython3",
   "version": "3.6.1"
  }
 },
 "nbformat": 4,
 "nbformat_minor": 2
}

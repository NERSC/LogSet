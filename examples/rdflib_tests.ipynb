{
 "cells": [
  {
   "cell_type": "code",
   "execution_count": 2,
   "metadata": {},
   "outputs": [
    {
     "name": "stdout",
     "output_type": "stream",
     "text": [
      "/global/u1/s/sleak/Monitoring/Resilience/LogSet/etc/logset.ttl\n",
      "/global/u1/s/sleak/Monitoring/Resilience/LogSet/etc/ddict.ttl\n"
     ]
    }
   ],
   "source": [
    "import os\n",
    "root = os.getcwd().rsplit('/',1)[0]\n",
    "vocab_path = '{0:s}/etc/logset.ttl'.format(root)\n",
    "dict_path = '{0:s}/etc/ddict.ttl'.format(root)\n",
    "print(vocab_path)\n",
    "print(dict_path)\n",
    "\n",
    "#test = '{0:s}/etc/logset#'.format(root)\n",
    "#fmt = rdflib.util.guess_format(root)\n",
    "#print(fmt)\n",
    "#gtest = rdflib.ConjunctiveGraph().parse(test, format=fmt)\n",
    "#count=0\n",
    "#for s,p,o in gtest:\n",
    "#    print((s,p,o))\n",
    "#    count+=1\n",
    "#    if count>10: break\n"
   ]
  },
  {
   "cell_type": "code",
   "execution_count": 18,
   "metadata": {},
   "outputs": [
    {
     "name": "stdout",
     "output_type": "stream",
     "text": [
      "/global/u1/s/sleak/Monitoring/Resilience/LogSet/etc/logset\n",
      "None\n"
     ]
    },
    {
     "ename": "FileNotFoundError",
     "evalue": "[Errno 2] No such file or directory: '/global/u1/s/sleak/Monitoring/Resilience/LogSet/etc/logset'",
     "output_type": "error",
     "traceback": [
      "\u001b[0;31m\u001b[0m",
      "\u001b[0;31mFileNotFoundError\u001b[0mTraceback (most recent call last)",
      "\u001b[0;32m<ipython-input-18-f36af0c79e42>\u001b[0m in \u001b[0;36m<module>\u001b[0;34m()\u001b[0m\n\u001b[1;32m     13\u001b[0m \u001b[0mfmt\u001b[0m \u001b[0;34m=\u001b[0m \u001b[0mrdflib\u001b[0m\u001b[0;34m.\u001b[0m\u001b[0mutil\u001b[0m\u001b[0;34m.\u001b[0m\u001b[0mguess_format\u001b[0m\u001b[0;34m(\u001b[0m\u001b[0mfoaf\u001b[0m\u001b[0;34m)\u001b[0m\u001b[0;34m\u001b[0m\u001b[0m\n\u001b[1;32m     14\u001b[0m \u001b[0mprint\u001b[0m\u001b[0;34m(\u001b[0m\u001b[0mfmt\u001b[0m\u001b[0;34m)\u001b[0m\u001b[0;34m\u001b[0m\u001b[0m\n\u001b[0;32m---> 15\u001b[0;31m \u001b[0mgfoaf\u001b[0m \u001b[0;34m=\u001b[0m \u001b[0mrdflib\u001b[0m\u001b[0;34m.\u001b[0m\u001b[0mConjunctiveGraph\u001b[0m\u001b[0;34m(\u001b[0m\u001b[0;34m)\u001b[0m\u001b[0;34m.\u001b[0m\u001b[0mparse\u001b[0m\u001b[0;34m(\u001b[0m\u001b[0mfoaf\u001b[0m\u001b[0;34m,\u001b[0m \u001b[0mformat\u001b[0m\u001b[0;34m=\u001b[0m\u001b[0mfmt\u001b[0m\u001b[0;34m)\u001b[0m\u001b[0;34m\u001b[0m\u001b[0m\n\u001b[0m\u001b[1;32m     16\u001b[0m \u001b[0mprint\u001b[0m\u001b[0;34m(\u001b[0m\u001b[0mlen\u001b[0m\u001b[0;34m(\u001b[0m\u001b[0mgfoaf\u001b[0m\u001b[0;34m)\u001b[0m\u001b[0;34m)\u001b[0m\u001b[0;34m\u001b[0m\u001b[0m\n\u001b[1;32m     17\u001b[0m \u001b[0mcount\u001b[0m\u001b[0;34m=\u001b[0m\u001b[0;36m0\u001b[0m\u001b[0;34m\u001b[0m\u001b[0m\n",
      "\u001b[0;32m~/.local/cori/3.6-anaconda-4.4/lib/python3.6/site-packages/rdflib/graph.py\u001b[0m in \u001b[0;36mparse\u001b[0;34m(self, source, publicID, format, location, file, data, **args)\u001b[0m\n\u001b[1;32m   1486\u001b[0m         source = create_input_source(\n\u001b[1;32m   1487\u001b[0m             \u001b[0msource\u001b[0m\u001b[0;34m=\u001b[0m\u001b[0msource\u001b[0m\u001b[0;34m,\u001b[0m \u001b[0mpublicID\u001b[0m\u001b[0;34m=\u001b[0m\u001b[0mpublicID\u001b[0m\u001b[0;34m,\u001b[0m \u001b[0mlocation\u001b[0m\u001b[0;34m=\u001b[0m\u001b[0mlocation\u001b[0m\u001b[0;34m,\u001b[0m\u001b[0;34m\u001b[0m\u001b[0m\n\u001b[0;32m-> 1488\u001b[0;31m             file=file, data=data, format=format)\n\u001b[0m\u001b[1;32m   1489\u001b[0m \u001b[0;34m\u001b[0m\u001b[0m\n\u001b[1;32m   1490\u001b[0m         \u001b[0mg_id\u001b[0m \u001b[0;34m=\u001b[0m \u001b[0mpublicID\u001b[0m \u001b[0;32mand\u001b[0m \u001b[0mpublicID\u001b[0m \u001b[0;32mor\u001b[0m \u001b[0msource\u001b[0m\u001b[0;34m.\u001b[0m\u001b[0mgetPublicId\u001b[0m\u001b[0;34m(\u001b[0m\u001b[0;34m)\u001b[0m\u001b[0;34m\u001b[0m\u001b[0m\n",
      "\u001b[0;32m~/.local/cori/3.6-anaconda-4.4/lib/python3.6/site-packages/rdflib/parser.py\u001b[0m in \u001b[0;36mcreate_input_source\u001b[0;34m(source, publicID, location, file, data, format)\u001b[0m\n\u001b[1;32m    182\u001b[0m         \u001b[0;32mif\u001b[0m \u001b[0mabsolute_location\u001b[0m\u001b[0;34m.\u001b[0m\u001b[0mstartswith\u001b[0m\u001b[0;34m(\u001b[0m\u001b[0;34m\"file:///\"\u001b[0m\u001b[0;34m)\u001b[0m\u001b[0;34m:\u001b[0m\u001b[0;34m\u001b[0m\u001b[0m\n\u001b[1;32m    183\u001b[0m             \u001b[0mfilename\u001b[0m \u001b[0;34m=\u001b[0m \u001b[0murl2pathname\u001b[0m\u001b[0;34m(\u001b[0m\u001b[0mabsolute_location\u001b[0m\u001b[0;34m.\u001b[0m\u001b[0mreplace\u001b[0m\u001b[0;34m(\u001b[0m\u001b[0;34m\"file:///\"\u001b[0m\u001b[0;34m,\u001b[0m \u001b[0;34m\"/\"\u001b[0m\u001b[0;34m)\u001b[0m\u001b[0;34m)\u001b[0m\u001b[0;34m\u001b[0m\u001b[0m\n\u001b[0;32m--> 184\u001b[0;31m             \u001b[0mfile\u001b[0m \u001b[0;34m=\u001b[0m \u001b[0mopen\u001b[0m\u001b[0;34m(\u001b[0m\u001b[0mfilename\u001b[0m\u001b[0;34m,\u001b[0m \u001b[0;34m\"rb\"\u001b[0m\u001b[0;34m)\u001b[0m\u001b[0;34m\u001b[0m\u001b[0m\n\u001b[0m\u001b[1;32m    185\u001b[0m         \u001b[0;32melse\u001b[0m\u001b[0;34m:\u001b[0m\u001b[0;34m\u001b[0m\u001b[0m\n\u001b[1;32m    186\u001b[0m             \u001b[0minput_source\u001b[0m \u001b[0;34m=\u001b[0m \u001b[0mURLInputSource\u001b[0m\u001b[0;34m(\u001b[0m\u001b[0mabsolute_location\u001b[0m\u001b[0;34m,\u001b[0m \u001b[0mformat\u001b[0m\u001b[0;34m)\u001b[0m\u001b[0;34m\u001b[0m\u001b[0m\n",
      "\u001b[0;31mFileNotFoundError\u001b[0m: [Errno 2] No such file or directory: '/global/u1/s/sleak/Monitoring/Resilience/LogSet/etc/logset'"
     ]
    }
   ],
   "source": [
    "import sys\n",
    "sys.path.append('/global/homes/s/sleak/.local/cori/3.6-anaconda-4.4/lib/python3.6/site-packages')\n",
    "import rdflib\n",
    "\n",
    "\n",
    "foaf = rdflib.namespace.XSD.rstrip('#')\n",
    "#foaf = rdflib.namespace.FOAF.rstrip('#') #[:-2] #+ 'index.rdf'\n",
    "#foaf = 'https://www.w3.org/2006/vcard/ns#'\n",
    "#foaf = 'http://www.w3.org/ns/dcat#'\n",
    "foaf = '{0:s}/etc/logset'.format(root)\n",
    "\n",
    "print(foaf)\n",
    "fmt = rdflib.util.guess_format(foaf)\n",
    "print(fmt)\n",
    "gfoaf = rdflib.ConjunctiveGraph().parse(foaf, format=fmt)\n",
    "print(len(gfoaf))\n",
    "count=0\n",
    "for s,p,o in gfoaf:\n",
    "    print((s,p,o))\n",
    "    count+=1\n",
    "    if count>10: break\n",
    "\n",
    "\n",
    "#graph = rdflib.ConjunctiveGraph().parse(vocab_path, format='turtle')\n",
    "gvocab = rdflib.ConjunctiveGraph().parse(vocab_path, format='turtle')\n",
    "\n",
    "# now add the data dictionary:\n",
    "#graph.parse(dict_path, format='turtle')\n",
    "gdict = rdflib.ConjunctiveGraph().parse(dict_path, format='turtle')\n",
    "#gdict = rdflib.ConjunctiveGraph().parse(dict_path)\n",
    "graph = gvocab + gdict\n",
    "\n",
    "print([n for n in graph.namespaces()])\n",
    "#print(graph.serialize(format='n3').decode('ascii'))\n",
    "\n",
    "#print(gdict.serialize(format='n3').decode('ascii'))\n",
    "#print(graph.identifier)\n",
    "#print(gvocab.identifier)\n",
    "#print(gdict.identifier)\n",
    "\n",
    "\n"
   ]
  },
  {
   "cell_type": "code",
   "execution_count": null,
   "metadata": {},
   "outputs": [],
   "source": []
  },
  {
   "cell_type": "code",
   "execution_count": 10,
   "metadata": {
    "scrolled": false
   },
   "outputs": [
    {
     "name": "stdout",
     "output_type": "stream",
     "text": [
      "14\n",
      "(rdflib.term.URIRef('file:///global/u1/s/sleak/Monitoring/Resilience/LogSet/examples/index#'), rdflib.term.URIRef('http://www.w3.org/ns/dcat#distribution'), rdflib.term.URIRef('file:///global/u1/s/sleak/Monitoring/Resilience/LogSet/examples/index#console-20170907'))\n",
      "(rdflib.term.URIRef('file:///global/u1/s/sleak/Monitoring/Resilience/LogSet/examples/index#'), rdflib.term.URIRef('http://purl.org/dc/terms/temporal'), rdflib.term.BNode('ub10bL31C18'))\n",
      "(rdflib.term.URIRef('file:///global/u1/s/sleak/Monitoring/Resilience/LogSet/examples/index#'), rdflib.term.URIRef('http://www.w3.org/ns/dcat#distribution'), rdflib.term.URIRef('file:///global/u1/s/sleak/Monitoring/Resilience/LogSet/examples/index#console-20170906'))\n",
      "(rdflib.term.URIRef('file:///global/u1/s/sleak/Monitoring/Resilience/LogSet/examples/index#'), rdflib.term.URIRef('http://purl.org/dc/terms/description'), rdflib.term.Literal('a partial sample of cori log data for testing logset tools'))\n",
      "(rdflib.term.URIRef('file:///global/u1/s/sleak/Monitoring/Resilience/LogSet/examples/index#'), rdflib.term.URIRef('http://portal.nersc.gov/project/mpccc/sleak/resilience/datasets/logset#subject'), rdflib.term.URIRef('file:///global/u1/s/sleak/Monitoring/Resilience/LogSet/examples/nersc#cori'))\n",
      "(rdflib.term.URIRef('file:///global/u1/s/sleak/Monitoring/Resilience/LogSet/examples/index#'), rdflib.term.URIRef('http://purl.org/dc/terms/publisher'), rdflib.term.URIRef('file:///global/u1/s/sleak/Monitoring/Resilience/LogSet/examples/nersc#nersc'))\n",
      "(rdflib.term.URIRef('file:///global/u1/s/sleak/Monitoring/Resilience/LogSet/examples/index#'), rdflib.term.URIRef('http://www.w3.org/ns/dcat#distribution'), rdflib.term.URIRef('file:///global/u1/s/sleak/Monitoring/Resilience/LogSet/examples/index#messages-20170907'))\n",
      "(rdflib.term.URIRef('file:///global/u1/s/sleak/Monitoring/Resilience/LogSet/examples/index#'), rdflib.term.URIRef('http://purl.org/dc/terms/title'), rdflib.term.Literal('Sample NERSC logs'))\n",
      "(rdflib.term.URIRef('file:///global/u1/s/sleak/Monitoring/Resilience/LogSet/examples/index#'), rdflib.term.URIRef('http://www.w3.org/ns/dcat#distribution'), rdflib.term.URIRef('file:///global/u1/s/sleak/Monitoring/Resilience/LogSet/examples/index#messages-20170906'))\n",
      "(rdflib.term.URIRef('file:///global/u1/s/sleak/Monitoring/Resilience/LogSet/examples/index#'), rdflib.term.URIRef('http://purl.org/dc/terms/contactPoint'), rdflib.term.BNode('ub10bL27C22'))\n",
      "(rdflib.term.URIRef('file:///global/u1/s/sleak/Monitoring/Resilience/LogSet/examples/index#'), rdflib.term.URIRef('http://www.w3.org/1999/02/22-rdf-syntax-ns#type'), rdflib.term.URIRef('http://portal.nersc.gov/project/mpccc/sleak/resilience/datasets/logset#LogSet'))\n",
      "(rdflib.term.URIRef('file:///global/u1/s/sleak/Monitoring/Resilience/LogSet/examples/index#'), rdflib.term.URIRef('http://www.w3.org/2000/01/rdf-schema#label'), rdflib.term.Literal('nersc-logs-001'))\n",
      "(rdflib.term.URIRef('file:///global/u1/s/sleak/Monitoring/Resilience/LogSet/examples/index#'), rdflib.term.URIRef('http://www.w3.org/ns/dcat#distribution'), rdflib.term.URIRef('file:///global/u1/s/sleak/Monitoring/Resilience/LogSet/examples/index#consumer-20170907'))\n",
      "(rdflib.term.URIRef('file:///global/u1/s/sleak/Monitoring/Resilience/LogSet/examples/index#'), rdflib.term.URIRef('http://www.w3.org/ns/dcat#distribution'), rdflib.term.URIRef('file:///global/u1/s/sleak/Monitoring/Resilience/LogSet/examples/index#consumer-20170906'))\n",
      "adding something that is there already:\n",
      "14\n",
      "(rdflib.term.URIRef('file:///global/u1/s/sleak/Monitoring/Resilience/LogSet/examples/index#'), rdflib.term.URIRef('http://www.w3.org/ns/dcat#distribution'), rdflib.term.URIRef('file:///global/u1/s/sleak/Monitoring/Resilience/LogSet/examples/index#console-20170907'))\n",
      "(rdflib.term.URIRef('file:///global/u1/s/sleak/Monitoring/Resilience/LogSet/examples/index#'), rdflib.term.URIRef('http://purl.org/dc/terms/temporal'), rdflib.term.BNode('ub10bL31C18'))\n",
      "(rdflib.term.URIRef('file:///global/u1/s/sleak/Monitoring/Resilience/LogSet/examples/index#'), rdflib.term.URIRef('http://www.w3.org/ns/dcat#distribution'), rdflib.term.URIRef('file:///global/u1/s/sleak/Monitoring/Resilience/LogSet/examples/index#console-20170906'))\n",
      "(rdflib.term.URIRef('file:///global/u1/s/sleak/Monitoring/Resilience/LogSet/examples/index#'), rdflib.term.URIRef('http://purl.org/dc/terms/description'), rdflib.term.Literal('a partial sample of cori log data for testing logset tools'))\n",
      "(rdflib.term.URIRef('file:///global/u1/s/sleak/Monitoring/Resilience/LogSet/examples/index#'), rdflib.term.URIRef('http://portal.nersc.gov/project/mpccc/sleak/resilience/datasets/logset#subject'), rdflib.term.URIRef('file:///global/u1/s/sleak/Monitoring/Resilience/LogSet/examples/nersc#cori'))\n",
      "(rdflib.term.URIRef('file:///global/u1/s/sleak/Monitoring/Resilience/LogSet/examples/index#'), rdflib.term.URIRef('http://purl.org/dc/terms/publisher'), rdflib.term.URIRef('file:///global/u1/s/sleak/Monitoring/Resilience/LogSet/examples/nersc#nersc'))\n",
      "(rdflib.term.URIRef('file:///global/u1/s/sleak/Monitoring/Resilience/LogSet/examples/index#'), rdflib.term.URIRef('http://www.w3.org/ns/dcat#distribution'), rdflib.term.URIRef('file:///global/u1/s/sleak/Monitoring/Resilience/LogSet/examples/index#messages-20170907'))\n",
      "(rdflib.term.URIRef('file:///global/u1/s/sleak/Monitoring/Resilience/LogSet/examples/index#'), rdflib.term.URIRef('http://purl.org/dc/terms/title'), rdflib.term.Literal('Sample NERSC logs'))\n",
      "(rdflib.term.URIRef('file:///global/u1/s/sleak/Monitoring/Resilience/LogSet/examples/index#'), rdflib.term.URIRef('http://www.w3.org/ns/dcat#distribution'), rdflib.term.URIRef('file:///global/u1/s/sleak/Monitoring/Resilience/LogSet/examples/index#messages-20170906'))\n",
      "(rdflib.term.URIRef('file:///global/u1/s/sleak/Monitoring/Resilience/LogSet/examples/index#'), rdflib.term.URIRef('http://purl.org/dc/terms/contactPoint'), rdflib.term.BNode('ub10bL27C22'))\n",
      "(rdflib.term.URIRef('file:///global/u1/s/sleak/Monitoring/Resilience/LogSet/examples/index#'), rdflib.term.URIRef('http://www.w3.org/1999/02/22-rdf-syntax-ns#type'), rdflib.term.URIRef('http://portal.nersc.gov/project/mpccc/sleak/resilience/datasets/logset#LogSet'))\n",
      "(rdflib.term.URIRef('file:///global/u1/s/sleak/Monitoring/Resilience/LogSet/examples/index#'), rdflib.term.URIRef('http://www.w3.org/2000/01/rdf-schema#label'), rdflib.term.Literal('nersc-logs-001'))\n",
      "(rdflib.term.URIRef('file:///global/u1/s/sleak/Monitoring/Resilience/LogSet/examples/index#'), rdflib.term.URIRef('http://www.w3.org/ns/dcat#distribution'), rdflib.term.URIRef('file:///global/u1/s/sleak/Monitoring/Resilience/LogSet/examples/index#consumer-20170907'))\n",
      "(rdflib.term.URIRef('file:///global/u1/s/sleak/Monitoring/Resilience/LogSet/examples/index#'), rdflib.term.URIRef('http://www.w3.org/ns/dcat#distribution'), rdflib.term.URIRef('file:///global/u1/s/sleak/Monitoring/Resilience/LogSet/examples/index#consumer-20170906'))\n"
     ]
    }
   ],
   "source": [
    "gindex = rdflib.ConjunctiveGraph().parse('{0:s}/examples/index.ttl'.format(root), format='turtle')\n",
    "#graph.parse('{0:s}/examples/index.ttl'.format(root), format='turtle')\n",
    "graph = (gvocab + gdict) + gindex\n",
    "#print(graph.serialize(format='n3').decode('ascii'))\n",
    "##for s,p,o in graph:\n",
    "#for s,p,o in gindex:    \n",
    "#    print ((s,p,o))\n",
    "\n",
    "subj = rdflib.term.URIRef('file:///global/u1/s/sleak/Monitoring/Resilience/LogSet/examples/index#')\n",
    "print(len([t for t in graph.predicate_objects(subj)]))\n",
    "for p,o in graph.predicate_objects(subj):\n",
    "    print((subj,p,o))\n",
    "# what if i add a triple that is alrewady there?\n",
    "print(\"adding something that is there already:\")\n",
    "graph.add((subj, rdflib.term.URIRef('http://www.w3.org/ns/dcat#distribution'), rdflib.term.URIRef('file:///global/u1/s/sleak/Monitoring/Resilience/LogSet/examples/index#consumer-20170907')))\n",
    "print(len([t for t in graph.predicate_objects(subj)]))\n",
    "for p,o in graph.predicate_objects(subj):\n",
    "    print((subj,p,o))"
   ]
  },
  {
   "cell_type": "code",
   "execution_count": 7,
   "metadata": {},
   "outputs": [
    {
     "name": "stdout",
     "output_type": "stream",
     "text": [
      "(rdflib.term.URIRef('file:///global/u1/s/sleak/Monitoring/Resilience/LogSet/examples/index#'), rdflib.term.Literal('a partial sample of cori log data for testing logset tools'))\n",
      "strings not uris:\n",
      "uris\n",
      "http://portal.nersc.gov/project/mpccc/sleak/resilience/datasets/dict#annotationDB\n"
     ]
    }
   ],
   "source": [
    "query = '''SELECT ?id ?desc\n",
    "WHERE {\n",
    "?id a logset:LogSet .\n",
    "?id dct:description ?desc .\n",
    "}'''\n",
    "#print(query[21])\n",
    "for row in graph.query(query):\n",
    "    print(row)\n",
    "\n",
    "    print(\"strings not uris:\")\n",
    "for subject in graph.subjects(rdflib.RDF.type, 'http://portal.nersc.gov/project/mpccc/sleak/resilience/datasets/logset#LogSeries'):\n",
    "    print(subject)\n",
    "print(\"uris\")\n",
    "for subject in graph.subjects(rdflib.RDF.type, rdflib.term.URIRef('http://portal.nersc.gov/project/mpccc/sleak/resilience/datasets/logset#LogSeries')):\n",
    "    print(subject)"
   ]
  },
  {
   "cell_type": "code",
   "execution_count": 5,
   "metadata": {},
   "outputs": [
    {
     "name": "stdout",
     "output_type": "stream",
     "text": [
      "quering the whole graph:\n",
      "querying only gindex:\n"
     ]
    }
   ],
   "source": [
    "query = '''SELECT ?id ?path\n",
    "WHERE {\n",
    "?id logset:isLogOf dict:console_logfile .\n",
    "?id logset:path ?path .\n",
    "} '''\n",
    "print(\"quering the whole graph:\")\n",
    "for row in graph.query(query):\n",
    "    print(row)\n",
    "    \n",
    "# if I don't explicitly include the logset.ttl in the graph:\n",
    "print(\"querying only gindex:\")\n",
    "# (oh - actually everything needed is in the index.ttl)\n",
    "for row in gindex.query(query):\n",
    "    print(row)\n"
   ]
  },
  {
   "cell_type": "code",
   "execution_count": 7,
   "metadata": {},
   "outputs": [
    {
     "name": "stdout",
     "output_type": "stream",
     "text": [
      "with full graph:\n",
      "with gindex only:\n"
     ]
    }
   ],
   "source": [
    "query = '''SELECT ?id ?path\n",
    "WHERE {\n",
    "?id a ?type .\n",
    "?type rdfs:subClassOf* logset:ConcreteLog . \n",
    "OPTIONAL { ?id logset:path ?path }\n",
    "} '''\n",
    "query = '''SELECT ?id ?path\n",
    "WHERE {\n",
    "?id a ?type .\n",
    "?type rdfs:subClassOf* dcat:Distribution . \n",
    "OPTIONAL { ?id logset:path ?path }\n",
    "} '''\n",
    "# :ConcreteLog is defined in logset.ttl .. so if our graph includes that (local file) we get:\n",
    "print (\"with full graph:\")\n",
    "for row in graph.query(query):\n",
    "    print(row)\n",
    "    \n",
    "# on the other hand, if we only query the local gindex graph:\n",
    "print (\"with gindex only:\")\n",
    "for row in gindex.query(query):\n",
    "    print(row)\n"
   ]
  },
  {
   "cell_type": "code",
   "execution_count": 7,
   "metadata": {
    "scrolled": false
   },
   "outputs": [
    {
     "name": "stdout",
     "output_type": "stream",
     "text": [
      "http://portal.nersc.gov/project/mpccc/sleak/resilience/datasets/logset#\n",
      "('xml', rdflib.term.URIRef('http://www.w3.org/XML/1998/namespace'))\n",
      "('rdf', rdflib.term.URIRef('http://www.w3.org/1999/02/22-rdf-syntax-ns#'))\n",
      "('rdfs', rdflib.term.URIRef('http://www.w3.org/2000/01/rdf-schema#'))\n",
      "('xsd', rdflib.term.URIRef('http://www.w3.org/2001/XMLSchema#'))\n",
      "('dct', rdflib.term.URIRef('http://purl.org/dc/terms/'))\n",
      "('dcat', rdflib.term.URIRef('http://www.w3.org/ns/dcat#'))\n",
      "('vcard', rdflib.term.URIRef('http://www.w3.org/2006/vcard/ns#'))\n",
      "('logset', rdflib.term.URIRef('http://portal.nersc.gov/project/mpccc/sleak/resilience/datasets/logset#'))\n",
      "('dict', rdflib.term.URIRef('http://portal.nersc.gov/project/mpccc/sleak/resilience/datasets/dict#'))\n",
      "('cray', rdflib.term.URIRef('file:///global/u1/s/sleak/Monitoring/Resilience/LogSet/examples/cray-dict#'))\n",
      "('nersc', rdflib.term.URIRef('file:///global/u1/s/sleak/Monitoring/Resilience/LogSet/examples/nersc#'))\n",
      "('', rdflib.term.URIRef('file:///global/u1/s/sleak/Monitoring/Resilience/LogSet/examples/index#'))\n",
      "g now has 63 statements\n",
      "<http://portal.nersc.gov/project/mpccc/sleak/resilience/datasets/logset#>\n",
      "http://portal.nersc.gov/project/mpccc/sleak/resilience/datasets/logset\n",
      "g now has 153 statements\n",
      "<http://portal.nersc.gov/project/mpccc/sleak/resilience/datasets/dict#>\n",
      "http://portal.nersc.gov/project/mpccc/sleak/resilience/datasets/dict\n",
      "g now has 184 statements\n",
      "(rdflib.term.URIRef('file:///global/u1/s/sleak/Monitoring/Resilience/LogSet/examples/index#consumer-20170907'), None)\n",
      "(rdflib.term.URIRef('file:///global/u1/s/sleak/Monitoring/Resilience/LogSet/examples/index#console-20170907'), None)\n",
      "(rdflib.term.URIRef('file:///global/u1/s/sleak/Monitoring/Resilience/LogSet/examples/index#messages-20170907'), None)\n",
      "(rdflib.term.URIRef('file:///global/u1/s/sleak/Monitoring/Resilience/LogSet/examples/index#messages-20170906'), None)\n",
      "(rdflib.term.URIRef('file:///global/u1/s/sleak/Monitoring/Resilience/LogSet/examples/index#consumer-20170906'), None)\n",
      "(rdflib.term.URIRef('file:///global/u1/s/sleak/Monitoring/Resilience/LogSet/examples/index#console-20170906'), None)\n",
      "logseries:\n",
      "http://portal.nersc.gov/project/mpccc/sleak/resilience/datasets/dict#annotationDB\n"
     ]
    }
   ],
   "source": [
    "# so to assemble the full graph, I need to explicitly parse the vocab and data dictionary:\n",
    "# (mostly useful for catalog, as it will find subgraphs from there)\n",
    "\n",
    "# can i parse a remote graph at all?\n",
    "#g1 = rdflib.Graph().parse('https://www.w3.org/ns/dcat.ttl')\n",
    "#print (g1)\n",
    "# yes! but providing a format might be necessary\n",
    "#gg = rdflib.Graph().parse('https://raw.githubusercontent.com/NERSC/LogSet/master/etc/logset.ttl', format='turtle')\n",
    "gindex = rdflib.ConjunctiveGraph().parse('{0:s}/examples/index.ttl'.format(root), format='turtle')\n",
    "##for s,p,o in gindex:    \n",
    "##    print ((s,p,o))\n",
    "namespaces=dict([n for n in gindex.namespaces()])\n",
    "print(namespaces['logset'])\n",
    "for n in gindex.namespaces():\n",
    "    print (n)\n",
    "#print(dir(rdflib.term.URIRef))\n",
    "#print(rdflib.term.URIRef.__class__)\n",
    "g = gindex\n",
    "print (\"g now has {0} statements\".format(len(g)))\n",
    "for uri in [n[1] for n in gindex.namespaces() if n[0] in ('logset','dict')]:\n",
    "    print(str(uri.n3()))\n",
    "    print(str(uri)[:-1])\n",
    "    gsource=str(uri)[:-1] + '.ttl'   # needs extension or 404!\n",
    "    g += rdflib.ConjunctiveGraph().parse(gsource, format='turtle')\n",
    "    print (\"g now has {0} statements\".format(len(g)))\n",
    "    #summary = g.serialize(format='n3').decode('ascii')\n",
    "    #print(summary.splitlines()[:10])\n",
    "    #print(g.serialize(format='n3').decode('ascii'))\n",
    "\n",
    "# now what if I run that same query:\n",
    "query = '''SELECT ?id ?path\n",
    "WHERE {\n",
    "?id a ?type .\n",
    "?type rdfs:subClassOf* dcat:Distribution . \n",
    "OPTIONAL { ?id logset:path ?path }\n",
    "} '''\n",
    "for row in g.query(query):\n",
    "    print(row)\n",
    "    \n",
    "print(\"logseries:\")\n",
    "for subject in graph.subjects(rdflib.RDF.type, rdflib.term.URIRef('http://portal.nersc.gov/project/mpccc/sleak/resilience/datasets/logset#LogSeries')):\n",
    "    print(subject)"
   ]
  },
  {
   "cell_type": "code",
   "execution_count": 9,
   "metadata": {},
   "outputs": [
    {
     "name": "stdout",
     "output_type": "stream",
     "text": [
      "(rdflib.term.URIRef('file:///global/u1/s/sleak/Monitoring/Resilience/LogSet/examples/index#console-20170907'), rdflib.term.Literal('p0-20170906t151820/console-20170907'), rdflib.term.BNode('ub4bL63C18'))\n",
      "(rdflib.term.URIRef('file:///global/u1/s/sleak/Monitoring/Resilience/LogSet/examples/index#console-20170906'), rdflib.term.Literal('p0-20170906t151820/console-20170906'), rdflib.term.BNode('ub4bL52C18'))\n",
      "(rdflib.term.URIRef('file:///global/u1/s/sleak/Monitoring/Resilience/LogSet/examples/index#messages-20170907'), rdflib.term.Literal('p0-20170906t151820/messages-20170907'), rdflib.term.BNode('ub4bL107C18'))\n",
      "(rdflib.term.URIRef('file:///global/u1/s/sleak/Monitoring/Resilience/LogSet/examples/index#consumer-20170906'), rdflib.term.Literal('p0-20170906t151820/consumer-20170906'), rdflib.term.BNode('ub4bL75C18'))\n",
      "(rdflib.term.URIRef('file:///global/u1/s/sleak/Monitoring/Resilience/LogSet/examples/index#messages-20170906'), rdflib.term.Literal('p0-20170906t151820/messages-20170906'), rdflib.term.BNode('ub4bL96C18'))\n",
      "(rdflib.term.URIRef('file:///global/u1/s/sleak/Monitoring/Resilience/LogSet/examples/index#consumer-20170907'), rdflib.term.Literal('p0-20170906t151820/consumer-20170907'), rdflib.term.BNode('ub4bL85C18'))\n"
     ]
    }
   ],
   "source": [
    "query = '''SELECT ?id ?path\n",
    "WHERE {\n",
    "?id logset:isLogOf dict:console_logfile .\n",
    "?id logset:path ?path .\n",
    "} '''\n",
    "# now we can find the datasources in the loaded graph\n",
    "query2 = '''SELECT ?id ?path ?time\n",
    "WHERE {\n",
    "?id a ?type .\n",
    "?type rdfs:subClassOf* logset:ConcreteLog . \n",
    "?id dct:temporal ?time .\n",
    "OPTIONAL { ?id dcat:downloadURL ?path }\n",
    "} '''\n",
    "#query3 = '''SELECT ?id ?type ?base\n",
    "#WHERE {\n",
    "#?id a ?type .\n",
    "#OPTIONAL { ?type rdfs:subClassOf ?base }\n",
    "#}'''\n",
    "for row in g.query(query2):\n",
    "    print(row)"
   ]
  },
  {
   "cell_type": "code",
   "execution_count": 12,
   "metadata": {},
   "outputs": [],
   "source": [
    "query = '''SELECT ?id ?path\n",
    "WHERE {\n",
    "?id logset:isInstanceOf [ dict:console_logfile . \n",
    "?id dcat:downloadURL ?path .\n",
    "} '''\n",
    "query = '''SELECT ?id\n",
    "WHERE {\n",
    "?id a logset:LogSeries .\n",
    "}\n",
    "'''\n",
    "query = '''SELECT ?id ?path\n",
    "WHERE {\n",
    "?id logset:isInstanceOf [a logset:LogSeries] .\n",
    "?id dcat:downloadURL ?path .\n",
    "}\n",
    "'''\n",
    "for row in g.query(query):\n",
    "    print(row)"
   ]
  },
  {
   "cell_type": "code",
   "execution_count": 10,
   "metadata": {},
   "outputs": [
    {
     "name": "stdout",
     "output_type": "stream",
     "text": [
      "(rdflib.term.URIRef('https://raw.githubusercontent.com/NERSC/LogSet/master/etc/dict#consumer_logfile'), rdflib.term.Literal('filepattern=consumer'))\n",
      "(rdflib.term.URIRef('https://raw.githubusercontent.com/NERSC/LogSet/master/etc/dict#consumer_logfile'), rdflib.term.Literal('filepattern=consumer-<dateYYYYMMDD>'))\n",
      "(rdflib.term.URIRef('https://raw.githubusercontent.com/NERSC/LogSet/master/etc/dict#messages_logfile'), rdflib.term.Literal('filepattern=messages'))\n",
      "(rdflib.term.URIRef('https://raw.githubusercontent.com/NERSC/LogSet/master/etc/dict#messages_logfile'), rdflib.term.Literal('ts_word=1'))\n",
      "(rdflib.term.URIRef('https://raw.githubusercontent.com/NERSC/LogSet/master/etc/dict#messages_logfile'), rdflib.term.Literal('filepattern=messages-<dateYYYYMMDD>'))\n",
      "(rdflib.term.URIRef('https://raw.githubusercontent.com/NERSC/LogSet/master/etc/dict#messages_logfile'), rdflib.term.Literal('part_word=2'))\n",
      "(rdflib.term.URIRef('https://raw.githubusercontent.com/NERSC/LogSet/master/etc/dict#console_logfile'), rdflib.term.Literal('filepattern=console'))\n",
      "(rdflib.term.URIRef('https://raw.githubusercontent.com/NERSC/LogSet/master/etc/dict#console_logfile'), rdflib.term.Literal('part_word=1'))\n",
      "(rdflib.term.URIRef('https://raw.githubusercontent.com/NERSC/LogSet/master/etc/dict#console_logfile'), rdflib.term.Literal('ts_word=0'))\n",
      "(rdflib.term.URIRef('https://raw.githubusercontent.com/NERSC/LogSet/master/etc/dict#console_logfile'), rdflib.term.Literal('filepattern=console-<dateYYYYMMDD>'))\n"
     ]
    }
   ],
   "source": [
    "query = '''SELECT ?series ?filepattern\n",
    "WHERE {\n",
    "?series a logset:LogSeries .\n",
    "?series logset:logFormatInfo ?filepattern .\n",
    "}\n",
    "'''\n",
    "for row in g.query(query):\n",
    "    print(row)\n",
    "# it seems graphs don't do regex filtering of literals well, so best is \n",
    "# to collect the logFormatInfos for each series, build a dictionary of \n",
    "# lists-of-values, and work with that"
   ]
  },
  {
   "cell_type": "code",
   "execution_count": 11,
   "metadata": {},
   "outputs": [
    {
     "name": "stdout",
     "output_type": "stream",
     "text": [
      "(rdflib.term.BNode('f1454b393d3b34d8fbf97b594baecf658b5'), rdflib.term.Literal('p0-20170906t151820/consumer-20170907'), rdflib.term.Literal('2017-09-07T00:00:00-07:00', datatype=rdflib.term.URIRef('http://www.w3.org/2001/XMLSchema#dateTime')))\n",
      "(rdflib.term.BNode('f1454b393d3b34d8fbf97b594baecf658b7'), rdflib.term.Literal('p0-20170906t151820/messages-20170907'), rdflib.term.Literal('2017-09-07T00:00:01.008501-07:00', datatype=rdflib.term.URIRef('http://www.w3.org/2001/XMLSchema#dateTime')))\n",
      "(rdflib.term.BNode('f1454b393d3b34d8fbf97b594baecf658b3'), rdflib.term.Literal('p0-20170906t151820/console-20170907'), rdflib.term.Literal('2017-09-07T00:00:37.627889-07:00', datatype=rdflib.term.URIRef('http://www.w3.org/2001/XMLSchema#dateTime')))\n"
     ]
    }
   ],
   "source": [
    "# next: querying on datetime fields:\n",
    "query = '''SELECT ?id ?path ?start\n",
    "WHERE {\n",
    "?id logset:isInstanceOf [a logset:LogSeries] .\n",
    "?id dcat:downloadURL ?path .\n",
    "?id dct:temporal/logset:startDate ?start .\n",
    "FILTER (?start >= \"2017-09-07-07:00\"^^xsd:dateTime)\n",
    "}\n",
    "'''\n",
    "# FILTER (?time = \"2017-09-07\"^^xsd:dateTime)\n",
    "# this doesn't work:\n",
    "# ?id dct:temporal [a dct:PeriodOfTime ; logset:startDate ?start ; OPTIONAL { logset:endDate ?end } ] .\n",
    "for row in g.query(query):\n",
    "    print(row)"
   ]
  },
  {
   "cell_type": "code",
   "execution_count": 12,
   "metadata": {},
   "outputs": [
    {
     "ename": "NameError",
     "evalue": "name '__version__' is not defined",
     "output_type": "error",
     "traceback": [
      "\u001b[0;31m---------------------------------------------------------------------------\u001b[0m",
      "\u001b[0;31mNameError\u001b[0m                                 Traceback (most recent call last)",
      "\u001b[0;32m<ipython-input-12-d0ad0054b387>\u001b[0m in \u001b[0;36m<module>\u001b[0;34m()\u001b[0m\n\u001b[0;32m----> 1\u001b[0;31m \u001b[0m__version__\u001b[0m\u001b[0;34m\u001b[0m\u001b[0m\n\u001b[0m",
      "\u001b[0;31mNameError\u001b[0m: name '__version__' is not defined"
     ]
    }
   ],
   "source": []
  },
  {
   "cell_type": "code",
   "execution_count": null,
   "metadata": {},
   "outputs": [],
   "source": []
  }
 ],
 "metadata": {
  "kernelspec": {
   "display_name": "Python [default]",
   "language": "python",
   "name": "python3"
  },
  "language_info": {
   "codemirror_mode": {
    "name": "ipython",
    "version": 3
   },
   "file_extension": ".py",
   "mimetype": "text/x-python",
   "name": "python",
   "nbconvert_exporter": "python",
   "pygments_lexer": "ipython3",
   "version": "3.6.1"
  }
 },
 "nbformat": 4,
 "nbformat_minor": 2
}
